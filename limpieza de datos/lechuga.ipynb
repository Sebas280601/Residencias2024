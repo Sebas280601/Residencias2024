{
 "cells": [
  {
   "cell_type": "code",
   "execution_count": 1,
   "id": "967627eb-acf3-4506-9341-77ea3aff27df",
   "metadata": {},
   "outputs": [],
   "source": [
    "import pandas as pd\n",
    "import numpy as np\n",
    "import matplotlib.pyplot as plt\n",
    "import seaborn as sns\n",
    "import os\n",
    "from bs4 import BeautifulSoup as bs\n",
    "from pymongo import MongoClient\n"
   ]
  },
  {
   "cell_type": "code",
   "execution_count": 2,
   "id": "80f878c9-a7a8-4234-8d4d-ecb71ecb1ca2",
   "metadata": {},
   "outputs": [],
   "source": [
    "#CARGAR ARCHIVO DE LECTURAS DE ZANAHORIA "
   ]
  },
  {
   "cell_type": "code",
   "execution_count": 3,
   "id": "d0a8b5b0-bcf3-49e4-9dfb-04561bf1f455",
   "metadata": {},
   "outputs": [
    {
     "name": "stdout",
     "output_type": "stream",
     "text": [
      "fecha          datetime64[ns]\n",
      "humedad               float64\n",
      "temperatura           float64\n",
      "ph                    float64\n",
      "dtype: object\n"
     ]
    },
    {
     "data": {
      "text/html": [
       "<div>\n",
       "<style scoped>\n",
       "    .dataframe tbody tr th:only-of-type {\n",
       "        vertical-align: middle;\n",
       "    }\n",
       "\n",
       "    .dataframe tbody tr th {\n",
       "        vertical-align: top;\n",
       "    }\n",
       "\n",
       "    .dataframe thead th {\n",
       "        text-align: right;\n",
       "    }\n",
       "</style>\n",
       "<table border=\"1\" class=\"dataframe\">\n",
       "  <thead>\n",
       "    <tr style=\"text-align: right;\">\n",
       "      <th></th>\n",
       "      <th>fecha</th>\n",
       "      <th>humedad</th>\n",
       "      <th>temperatura</th>\n",
       "      <th>ph</th>\n",
       "    </tr>\n",
       "  </thead>\n",
       "  <tbody>\n",
       "    <tr>\n",
       "      <th>0</th>\n",
       "      <td>2024-03-02</td>\n",
       "      <td>92.0</td>\n",
       "      <td>20.0</td>\n",
       "      <td>6.5</td>\n",
       "    </tr>\n",
       "    <tr>\n",
       "      <th>1</th>\n",
       "      <td>2024-03-08</td>\n",
       "      <td>90.0</td>\n",
       "      <td>21.0</td>\n",
       "      <td>6.6</td>\n",
       "    </tr>\n",
       "    <tr>\n",
       "      <th>2</th>\n",
       "      <td>2024-03-04</td>\n",
       "      <td>88.0</td>\n",
       "      <td>22.0</td>\n",
       "      <td>6.7</td>\n",
       "    </tr>\n",
       "    <tr>\n",
       "      <th>3</th>\n",
       "      <td>2024-04-17</td>\n",
       "      <td>86.0</td>\n",
       "      <td>23.0</td>\n",
       "      <td>6.8</td>\n",
       "    </tr>\n",
       "    <tr>\n",
       "      <th>4</th>\n",
       "      <td>2024-04-09</td>\n",
       "      <td>84.0</td>\n",
       "      <td>24.0</td>\n",
       "      <td>6.9</td>\n",
       "    </tr>\n",
       "    <tr>\n",
       "      <th>...</th>\n",
       "      <td>...</td>\n",
       "      <td>...</td>\n",
       "      <td>...</td>\n",
       "      <td>...</td>\n",
       "    </tr>\n",
       "    <tr>\n",
       "      <th>2093</th>\n",
       "      <td>2024-03-03</td>\n",
       "      <td>98.0</td>\n",
       "      <td>36.0</td>\n",
       "      <td>5.2</td>\n",
       "    </tr>\n",
       "    <tr>\n",
       "      <th>2094</th>\n",
       "      <td>2024-04-15</td>\n",
       "      <td>100.0</td>\n",
       "      <td>37.0</td>\n",
       "      <td>5.1</td>\n",
       "    </tr>\n",
       "    <tr>\n",
       "      <th>2095</th>\n",
       "      <td>2024-04-03</td>\n",
       "      <td>95.0</td>\n",
       "      <td>38.0</td>\n",
       "      <td>5.0</td>\n",
       "    </tr>\n",
       "    <tr>\n",
       "      <th>2096</th>\n",
       "      <td>2024-04-24</td>\n",
       "      <td>90.0</td>\n",
       "      <td>39.0</td>\n",
       "      <td>5.1</td>\n",
       "    </tr>\n",
       "    <tr>\n",
       "      <th>2097</th>\n",
       "      <td>2024-04-30</td>\n",
       "      <td>85.0</td>\n",
       "      <td>40.0</td>\n",
       "      <td>5.2</td>\n",
       "    </tr>\n",
       "  </tbody>\n",
       "</table>\n",
       "<p>2098 rows × 4 columns</p>\n",
       "</div>"
      ],
      "text/plain": [
       "          fecha  humedad  temperatura   ph\n",
       "0    2024-03-02     92.0         20.0  6.5\n",
       "1    2024-03-08     90.0         21.0  6.6\n",
       "2    2024-03-04     88.0         22.0  6.7\n",
       "3    2024-04-17     86.0         23.0  6.8\n",
       "4    2024-04-09     84.0         24.0  6.9\n",
       "...         ...      ...          ...  ...\n",
       "2093 2024-03-03     98.0         36.0  5.2\n",
       "2094 2024-04-15    100.0         37.0  5.1\n",
       "2095 2024-04-03     95.0         38.0  5.0\n",
       "2096 2024-04-24     90.0         39.0  5.1\n",
       "2097 2024-04-30     85.0         40.0  5.2\n",
       "\n",
       "[2098 rows x 4 columns]"
      ]
     },
     "execution_count": 3,
     "metadata": {},
     "output_type": "execute_result"
    }
   ],
   "source": [
    "# Especifica la ruta del archivo CSV\n",
    "file_path = \"lechugaUltimo.csv\"\n",
    "\n",
    "\n",
    "# Lee el CSV especificando los tipos de datos\n",
    "df = pd.read_csv(file_path, dtype={'temperatura': float, 'humedad': float, 'ph': float})\n",
    "\n",
    "# Convierte la columna de fecha a tipo datetime\n",
    "df['fecha'] = pd.to_datetime(df['fecha'])\n",
    "\n",
    "# Verifica los tipos de datos\n",
    "print(df.dtypes)\n",
    "df"
   ]
  },
  {
   "cell_type": "code",
   "execution_count": 4,
   "id": "cd9cd9fa-b71d-412e-91a2-62ee66cc92e4",
   "metadata": {},
   "outputs": [],
   "source": [
    "#LIMPIEZA DE DATOS"
   ]
  },
  {
   "cell_type": "code",
   "execution_count": 5,
   "id": "d63455b5-0014-4e68-a2fc-8c1ae441ead4",
   "metadata": {},
   "outputs": [
    {
     "data": {
      "text/html": [
       "<div>\n",
       "<style scoped>\n",
       "    .dataframe tbody tr th:only-of-type {\n",
       "        vertical-align: middle;\n",
       "    }\n",
       "\n",
       "    .dataframe tbody tr th {\n",
       "        vertical-align: top;\n",
       "    }\n",
       "\n",
       "    .dataframe thead th {\n",
       "        text-align: right;\n",
       "    }\n",
       "</style>\n",
       "<table border=\"1\" class=\"dataframe\">\n",
       "  <thead>\n",
       "    <tr style=\"text-align: right;\">\n",
       "      <th></th>\n",
       "      <th>fecha</th>\n",
       "      <th>humedad</th>\n",
       "      <th>temperatura</th>\n",
       "      <th>ph</th>\n",
       "    </tr>\n",
       "  </thead>\n",
       "  <tbody>\n",
       "    <tr>\n",
       "      <th>0</th>\n",
       "      <td>2024-03-02</td>\n",
       "      <td>92.0</td>\n",
       "      <td>20.0</td>\n",
       "      <td>6.5</td>\n",
       "    </tr>\n",
       "    <tr>\n",
       "      <th>1</th>\n",
       "      <td>2024-03-08</td>\n",
       "      <td>90.0</td>\n",
       "      <td>21.0</td>\n",
       "      <td>6.6</td>\n",
       "    </tr>\n",
       "    <tr>\n",
       "      <th>2</th>\n",
       "      <td>2024-03-04</td>\n",
       "      <td>88.0</td>\n",
       "      <td>22.0</td>\n",
       "      <td>6.7</td>\n",
       "    </tr>\n",
       "    <tr>\n",
       "      <th>3</th>\n",
       "      <td>2024-04-17</td>\n",
       "      <td>86.0</td>\n",
       "      <td>23.0</td>\n",
       "      <td>6.8</td>\n",
       "    </tr>\n",
       "    <tr>\n",
       "      <th>4</th>\n",
       "      <td>2024-04-09</td>\n",
       "      <td>84.0</td>\n",
       "      <td>24.0</td>\n",
       "      <td>6.9</td>\n",
       "    </tr>\n",
       "    <tr>\n",
       "      <th>...</th>\n",
       "      <td>...</td>\n",
       "      <td>...</td>\n",
       "      <td>...</td>\n",
       "      <td>...</td>\n",
       "    </tr>\n",
       "    <tr>\n",
       "      <th>2093</th>\n",
       "      <td>2024-03-03</td>\n",
       "      <td>98.0</td>\n",
       "      <td>36.0</td>\n",
       "      <td>5.2</td>\n",
       "    </tr>\n",
       "    <tr>\n",
       "      <th>2094</th>\n",
       "      <td>2024-04-15</td>\n",
       "      <td>100.0</td>\n",
       "      <td>37.0</td>\n",
       "      <td>5.1</td>\n",
       "    </tr>\n",
       "    <tr>\n",
       "      <th>2095</th>\n",
       "      <td>2024-04-03</td>\n",
       "      <td>95.0</td>\n",
       "      <td>38.0</td>\n",
       "      <td>5.0</td>\n",
       "    </tr>\n",
       "    <tr>\n",
       "      <th>2096</th>\n",
       "      <td>2024-04-24</td>\n",
       "      <td>90.0</td>\n",
       "      <td>39.0</td>\n",
       "      <td>5.1</td>\n",
       "    </tr>\n",
       "    <tr>\n",
       "      <th>2097</th>\n",
       "      <td>2024-04-30</td>\n",
       "      <td>85.0</td>\n",
       "      <td>40.0</td>\n",
       "      <td>5.2</td>\n",
       "    </tr>\n",
       "  </tbody>\n",
       "</table>\n",
       "<p>2098 rows × 4 columns</p>\n",
       "</div>"
      ],
      "text/plain": [
       "          fecha  humedad  temperatura   ph\n",
       "0    2024-03-02     92.0         20.0  6.5\n",
       "1    2024-03-08     90.0         21.0  6.6\n",
       "2    2024-03-04     88.0         22.0  6.7\n",
       "3    2024-04-17     86.0         23.0  6.8\n",
       "4    2024-04-09     84.0         24.0  6.9\n",
       "...         ...      ...          ...  ...\n",
       "2093 2024-03-03     98.0         36.0  5.2\n",
       "2094 2024-04-15    100.0         37.0  5.1\n",
       "2095 2024-04-03     95.0         38.0  5.0\n",
       "2096 2024-04-24     90.0         39.0  5.1\n",
       "2097 2024-04-30     85.0         40.0  5.2\n",
       "\n",
       "[2098 rows x 4 columns]"
      ]
     },
     "execution_count": 5,
     "metadata": {},
     "output_type": "execute_result"
    }
   ],
   "source": [
    "# Rellena los valores nulos con 0\n",
    "df.fillna(0, inplace=True)\n",
    " #eliminar filas sin valores\n",
    "df = df[(df.iloc[:, 1:] != 0).any(axis=1)]\n",
    "df"
   ]
  },
  {
   "cell_type": "code",
   "execution_count": 6,
   "id": "0df71170-3b22-42d4-afd8-4634d5c9df11",
   "metadata": {},
   "outputs": [],
   "source": [
    "#VALORES ESTADISTICOS ANTES DE SACAR VALORES ATIPICOS "
   ]
  },
  {
   "cell_type": "code",
   "execution_count": 7,
   "id": "c9e77934-809d-43c0-a876-b961724623cb",
   "metadata": {},
   "outputs": [
    {
     "name": "stdout",
     "output_type": "stream",
     "text": [
      "Maximo de temperatura: 125.0\n",
      "Maximo de humedad: 220.0\n",
      "Maximo de pH: 18.5\n",
      "Promedio de temperatura: 23.516682554814107\n",
      "Promedio de humedad: 52.391801715919925\n",
      "Promedio de pH: 5.929551954242136\n",
      "Minimo de temperatura: -100.0\n",
      "Minimo de humedad: 2.0\n",
      "Minimo de pH: 4.0\n"
     ]
    }
   ],
   "source": [
    "# Calcular estadísticas\n",
    "max_temperatura = df['temperatura'].max()\n",
    "min_temperatura = df['temperatura'].min()\n",
    "mean_temperatura = df['temperatura'].mean()\n",
    "\n",
    "max_humedad = df['humedad'].max()\n",
    "min_humedad = df['humedad'].min()\n",
    "mean_humedad = df['humedad'].mean()\n",
    "\n",
    "max_ph = df['ph'].max()\n",
    "min_ph = df['ph'].min()\n",
    "mean_ph = df['ph'].mean()\n",
    "\n",
    "print(f'Maximo de temperatura: {max_temperatura}')\n",
    "print(f'Maximo de humedad: {max_humedad}')\n",
    "print(f'Maximo de pH: {max_ph}')\n",
    "print(f'Promedio de temperatura: {mean_temperatura}')\n",
    "print(f'Promedio de humedad: {mean_humedad}')\n",
    "print(f'Promedio de pH: {mean_ph}')\n",
    "print(f'Minimo de temperatura: {min_temperatura}')\n",
    "print(f'Minimo de humedad: {min_humedad}')\n",
    "print(f'Minimo de pH: {min_ph}')"
   ]
  },
  {
   "cell_type": "code",
   "execution_count": 8,
   "id": "cc8f0ce5-bd25-4b53-89e6-9faac1373bdd",
   "metadata": {},
   "outputs": [
    {
     "data": {
      "image/png": "[encoded data removed]",
      "text/plain": [
       "<Figure size 1000x600 with 1 Axes>"
      ]
     },
     "metadata": {},
     "output_type": "display_data"
    }
   ],
   "source": [
    "# Crear un DataFrame con las estadísticas\n",
    "estadisticas = pd.DataFrame({\n",
    "    'Variable': ['Temperatura', 'Humedad', 'pH'],\n",
    "    'Max': [max_temperatura, max_humedad, max_ph],\n",
    "    'Min': [min_temperatura, min_humedad, min_ph],\n",
    "    'Promedio': [mean_temperatura, mean_humedad, mean_ph]\n",
    "})\n",
    "\n",
    "# Configurar las dimensiones de la gráfica\n",
    "plt.figure(figsize=(10, 6))\n",
    "\n",
    "# Gráfica de barras para máximos, mínimos y promedios\n",
    "bar_width = 0.2\n",
    "index = range(len(estadisticas)) \n",
    "\n",
    "plt.bar(index, estadisticas['Max'], bar_width, label='Max')\n",
    "plt.bar([i + bar_width for i in index], estadisticas['Min'], bar_width, label='Min')\n",
    "plt.bar([i + 2 * bar_width for i in index], estadisticas['Promedio'], bar_width, label='Promedio')\n",
    "\n",
    "# Añadir etiquetas y título\n",
    "plt.xlabel('Variables')\n",
    "plt.ylabel('Valores')\n",
    "plt.title('Máximos, Mínimos y Promedios de Variables del jitomate con atipicos')\n",
    "plt.xticks([i + bar_width for i in index], estadisticas['Variable'])\n",
    "plt.legend()\n",
    "\n",
    "# Mostrar la gráfica\n",
    "plt.show()"
   ]
  },
  {
   "cell_type": "code",
   "execution_count": 9,
   "id": "957b598a-7a6f-44f1-9ea6-7b58da1beadf",
   "metadata": {},
   "outputs": [
    {
     "name": "stdout",
     "output_type": "stream",
     "text": [
      "                               fecha      humedad  temperatura           ph\n",
      "count                           2098  2098.000000  2098.000000  2098.000000\n",
      "mean   2024-03-30 23:11:57.254528256    52.391802    23.516683     5.929552\n",
      "min              2024-03-01 00:00:00     2.000000  -100.000000     4.000000\n",
      "25%              2024-03-15 00:00:00    37.000000    22.000000     5.300000\n",
      "50%              2024-03-31 00:00:00    50.000000    25.000000     5.800000\n",
      "75%              2024-04-16 00:00:00    64.000000    28.000000     6.300000\n",
      "max              2024-04-30 00:00:00   220.000000   125.000000    18.500000\n",
      "std                              NaN    23.407362    15.814131     1.291993\n"
     ]
    }
   ],
   "source": [
    "# Obtener descripción estadística general\n",
    "descripcion_estadistica = df.describe()\n",
    "print(descripcion_estadistica)"
   ]
  },
  {
   "cell_type": "code",
   "execution_count": 10,
   "id": "5a1defe8-78fc-4b12-a815-a44c23901a4f",
   "metadata": {},
   "outputs": [],
   "source": [
    "#CHECAR VALORES ATIPICOS CON CONDICIONES OPTIMAS DEL JITOMATE"
   ]
  },
  {
   "cell_type": "code",
   "execution_count": 11,
   "id": "bd448a18-ec46-4277-b152-673613ff4bd6",
   "metadata": {},
   "outputs": [
    {
     "name": "stdout",
     "output_type": "stream",
     "text": [
      "       fecha  humedad  temperatura   ph\n",
      "0 2024-03-02     92.0         20.0  6.5\n",
      "1 2024-03-08     90.0         21.0  6.6\n",
      "2 2024-03-04     88.0         22.0  6.7\n",
      "3 2024-04-17     86.0         23.0  6.8\n",
      "4 2024-04-09     84.0         24.0  6.9\n",
      "Número de modificaciones de maximos: 386\n",
      "       fecha  humedad  temperatura   ph\n",
      "0 2024-03-02     92.0         20.0  6.5\n",
      "1 2024-03-08     90.0         21.0  6.6\n",
      "2 2024-03-04     88.0         22.0  6.7\n",
      "3 2024-04-17     86.0         23.0  6.8\n",
      "4 2024-04-09     84.0         24.0  6.9\n",
      "Número de modificaciones de minimos: 90\n"
     ]
    }
   ],
   "source": [
    "#TEMPERATURA MÁXIMA\n",
    "# Define el valor de umbral y el valor de reemplazo\n",
    "max = 28\n",
    "# Crear una máscara booleana para encontrar los valores que cumplen la condición\n",
    "mask = df['temperatura'] > max\n",
    "# Contar el número de modificaciones\n",
    "num_modificaciones = mask.sum()\n",
    "# Aplicar la condición y reemplazar los valores\n",
    "df.loc[mask, 'temperatura'] = max\n",
    "# Verificar los cambios y el número de modificaciones\n",
    "print(df.head())\n",
    "print(f'Número de modificaciones de maximos: {num_modificaciones}')\n",
    "\n",
    "#TEMPERATURA MINIMA\n",
    "# Define el valor de umbral y el valor de reemplazo\n",
    "min= 7\n",
    "# Crear una máscara booleana para encontrar los valores que cumplen la condición\n",
    "mask2 = df['temperatura'] < min\n",
    "# Contar el número de modificaciones\n",
    "num_modificaciones2 = mask2.sum()\n",
    "# Aplicar la condición y reemplazar los valores\n",
    "df.loc[mask2, 'temperatura'] = min\n",
    "# Verificar los cambios y el número de modificaciones\n",
    "print(df.head())\n",
    "print(f'Número de modificaciones de minimos: {num_modificaciones2}')"
   ]
  },
  {
   "cell_type": "code",
   "execution_count": 12,
   "id": "b85b6795-bcd4-4c5f-9297-097996b60291",
   "metadata": {},
   "outputs": [
    {
     "name": "stdout",
     "output_type": "stream",
     "text": [
      "       fecha  humedad  temperatura   ph\n",
      "0 2024-03-02     80.0         20.0  6.5\n",
      "1 2024-03-08     80.0         21.0  6.6\n",
      "2 2024-03-04     80.0         22.0  6.7\n",
      "3 2024-04-17     80.0         23.0  6.8\n",
      "4 2024-04-09     80.0         24.0  6.9\n",
      "Número de modificaciones de maximos: 188\n",
      "       fecha  humedad  temperatura   ph\n",
      "0 2024-03-02     80.0         20.0  6.5\n",
      "1 2024-03-08     80.0         21.0  6.6\n",
      "2 2024-03-04     80.0         22.0  6.7\n",
      "3 2024-04-17     80.0         23.0  6.8\n",
      "4 2024-04-09     80.0         24.0  6.9\n",
      "Número de modificaciones de minimos: 1014\n"
     ]
    }
   ],
   "source": [
    "#HUMEDAD MÁXIMA\n",
    "# Define el valor de umbral y el valor de reemplazo\n",
    "max = 80\n",
    "# Crear una máscara booleana para encontrar los valores que cumplen la condición\n",
    "mask = df['humedad'] > max\n",
    "# Contar el número de modificaciones\n",
    "num_modificaciones = mask.sum()\n",
    "# Aplicar la condición y reemplazar los valores\n",
    "df.loc[mask, 'humedad'] = max\n",
    "# Verificar los cambios y el número de modificaciones\n",
    "print(df.head())\n",
    "print(f'Número de modificaciones de maximos: {num_modificaciones}')\n",
    "\n",
    "#HUMEDAD MINIMA\n",
    "# Define el valor de umbral y el valor de reemplazo\n",
    "min= 50\n",
    "# Crear una máscara booleana para encontrar los valores que cumplen la condición\n",
    "mask2 = df['humedad'] < min\n",
    "# Contar el número de modificaciones\n",
    "num_modificaciones2 = mask2.sum()\n",
    "# Aplicar la condición y reemplazar los valores\n",
    "df.loc[mask2, 'humedad'] = min\n",
    "# Verificar los cambios y el número de modificaciones\n",
    "print(df.head())\n",
    "print(f'Número de modificaciones de minimos: {num_modificaciones2}')"
   ]
  },
  {
   "cell_type": "code",
   "execution_count": 13,
   "id": "07f7f363-0033-4224-b392-4367407ce671",
   "metadata": {},
   "outputs": [
    {
     "name": "stdout",
     "output_type": "stream",
     "text": [
      "       fecha  humedad  temperatura   ph\n",
      "0 2024-03-02     80.0         20.0  6.5\n",
      "1 2024-03-08     80.0         21.0  6.6\n",
      "2 2024-03-04     80.0         22.0  6.7\n",
      "3 2024-04-17     80.0         23.0  6.8\n",
      "4 2024-04-09     80.0         24.0  6.9\n",
      "Número de modificaciones de maximos: 46\n",
      "       fecha  humedad  temperatura   ph\n",
      "0 2024-03-02     80.0         20.0  6.5\n",
      "1 2024-03-08     80.0         21.0  6.6\n",
      "2 2024-03-04     80.0         22.0  6.7\n",
      "3 2024-04-17     80.0         23.0  6.8\n",
      "4 2024-04-09     80.0         24.0  6.9\n",
      "Número de modificaciones de minimos: 1228\n"
     ]
    }
   ],
   "source": [
    "#PH MÁXIMO\n",
    "# Define el valor de umbral y el valor de reemplazo\n",
    "max = 7.0\n",
    "# Crear una máscara booleana para encontrar los valores que cumplen la condición\n",
    "mask = df['ph'] > max\n",
    "# Contar el número de modificaciones\n",
    "num_modificaciones = mask.sum()\n",
    "# Aplicar la condición y reemplazar los valores\n",
    "df.loc[mask, 'ph'] = max\n",
    "# Verificar los cambios y el número de modificaciones\n",
    "print(df.head())\n",
    "print(f'Número de modificaciones de maximos: {num_modificaciones}')\n",
    "\n",
    "#PH MINIMO\n",
    "# Define el valor de umbral y el valor de reemplazo\n",
    "min= 6.0\n",
    "# Crear una máscara booleana para encontrar los valores que cumplen la condición\n",
    "mask2 = df['ph'] < min\n",
    "# Contar el número de modificaciones\n",
    "num_modificaciones2 = mask2.sum()\n",
    "# Aplicar la condición y reemplazar los valores\n",
    "df.loc[mask2, 'ph'] = min\n",
    "# Verificar los cambios y el número de modificaciones\n",
    "print(df.head())\n",
    "print(f'Número de modificaciones de minimos: {num_modificaciones2}')"
   ]
  },
  {
   "cell_type": "code",
   "execution_count": 14,
   "id": "a491bd5b-824c-4496-9abf-1a56eb2b041e",
   "metadata": {},
   "outputs": [],
   "source": [
    "#VALORES ESTADISTICOS CON DATOS LIMPIOS"
   ]
  },
  {
   "cell_type": "code",
   "execution_count": 15,
   "id": "33ed6044-9f22-499d-b52b-260937a44d0f",
   "metadata": {},
   "outputs": [
    {
     "name": "stdout",
     "output_type": "stream",
     "text": [
      "Maximo de temperatura: 28.0\n",
      "Maximo de humedad: 80.0\n",
      "Maximo de pH: 7.0\n",
      "Promedio de temperatura: 23.655862726406102\n",
      "Promedio de humedad: 57.7769304099142\n",
      "Promedio de pH: 6.166253574833174\n",
      "Minimo de temperatura: 7.0\n",
      "Minimo de humedad: 50.0\n",
      "Minimo de pH: 6.0\n"
     ]
    }
   ],
   "source": [
    "# Calcular estadísticas\n",
    "max_temperatura = df['temperatura'].max()\n",
    "min_temperatura = df['temperatura'].min()\n",
    "mean_temperatura = df['temperatura'].mean()\n",
    "\n",
    "max_humedad = df['humedad'].max()\n",
    "min_humedad = df['humedad'].min()\n",
    "mean_humedad = df['humedad'].mean()\n",
    "\n",
    "max_ph = df['ph'].max()\n",
    "min_ph = df['ph'].min()\n",
    "mean_ph = df['ph'].mean()\n",
    "\n",
    "print(f'Maximo de temperatura: {max_temperatura}')\n",
    "print(f'Maximo de humedad: {max_humedad}')\n",
    "print(f'Maximo de pH: {max_ph}')\n",
    "print(f'Promedio de temperatura: {mean_temperatura}')\n",
    "print(f'Promedio de humedad: {mean_humedad}')\n",
    "print(f'Promedio de pH: {mean_ph}')\n",
    "print(f'Minimo de temperatura: {min_temperatura}')\n",
    "print(f'Minimo de humedad: {min_humedad}')\n",
    "print(f'Minimo de pH: {min_ph}')"
   ]
  },
  {
   "cell_type": "code",
   "execution_count": 16,
   "id": "74c8948b-e6da-4a72-99eb-505f03bbb59c",
   "metadata": {},
   "outputs": [],
   "source": [
    "#GRAFICA DE VALORES ESTADISTICOS "
   ]
  },
  {
   "cell_type": "code",
   "execution_count": 17,
   "id": "be2fd6cb-8fa6-405b-9899-e8aecfd0a707",
   "metadata": {},
   "outputs": [
    {
     "data": {
      "image/png": "[encoded data removed]",
      "text/plain": [
       "<Figure size 1000x600 with 1 Axes>"
      ]
     },
     "metadata": {},
     "output_type": "display_data"
    }
   ],
   "source": [
    "# Crear un DataFrame con las estadísticas\n",
    "estadisticas = pd.DataFrame({\n",
    "    'Variable': ['Temperatura', 'Humedad', 'pH'],\n",
    "    'Max': [max_temperatura, max_humedad, max_ph],\n",
    "    'Min': [min_temperatura, min_humedad, min_ph],\n",
    "    'Promedio': [mean_temperatura, mean_humedad, mean_ph]\n",
    "})\n",
    "\n",
    "# Configurar las dimensiones de la gráfica\n",
    "plt.figure(figsize=(10, 6))\n",
    "\n",
    "# Gráfica de barras para máximos, mínimos y promedios\n",
    "bar_width = 0.2\n",
    "index = range(len(estadisticas))\n",
    "\n",
    "plt.bar(index, estadisticas['Max'], bar_width, label='Max')\n",
    "plt.bar([i + bar_width for i in index], estadisticas['Min'], bar_width, label='Min')\n",
    "plt.bar([i + 2 * bar_width for i in index], estadisticas['Promedio'], bar_width, label='Promedio')\n",
    "\n",
    "# Añadir etiquetas y título\n",
    "plt.xlabel('Variables')\n",
    "plt.ylabel('Valores')\n",
    "plt.title('Máximos, Mínimos y Promedios de Variables del jitomate con datos limpios')\n",
    "plt.xticks([i + bar_width for i in index], estadisticas['Variable'])\n",
    "plt.legend()\n",
    "\n",
    "# Mostrar la gráfica\n",
    "plt.show()"
   ]
  },
  {
   "cell_type": "code",
   "execution_count": 18,
   "id": "88352612-e025-4ea0-9181-162f3551d06b",
   "metadata": {},
   "outputs": [],
   "source": [
    "#INSERTAR DATOS ESTADISTICOS EN MONGODB"
   ]
  },
  {
   "cell_type": "code",
   "execution_count": 18,
   "id": "6207a8e9-5036-4598-8a4b-a6e5e9bda29e",
   "metadata": {},
   "outputs": [
    {
     "name": "stdout",
     "output_type": "stream",
     "text": [
      "Datos insertados en MongoDB\n"
     ]
    }
   ],
   "source": [
    "# Datos a insertar\n",
    "data = {\n",
    "    \"vegetal\": \"lechuga\",\n",
    "    \"estadisticas\": {\n",
    "        \"temperatura\": {\n",
    "            \"max\": max_temperatura,\n",
    "            \"min\": min_temperatura,\n",
    "            \"promedio\": mean_temperatura\n",
    "        },\n",
    "        \"humedad\": {\n",
    "            \"max\": max_humedad,\n",
    "            \"min\": min_humedad,\n",
    "            \"promedio\": mean_humedad\n",
    "        },\n",
    "        \"ph\": {\n",
    "            \"max\": max_ph,\n",
    "            \"min\": min_ph,\n",
    "            \"promedio\": mean_ph\n",
    "        }\n",
    "    }\n",
    "}\n",
    "\n",
    "# Conectar a MongoDB\n",
    "client = MongoClient('mongodb://localhost:27017/')  # Reemplaza con tu URI de MongoDB si es diferente\n",
    "\n",
    "# Crear base de datos y colección\n",
    "db = client['agricultura']\n",
    "collection = db['estadisticas_lechuga']\n",
    "\n",
    "# Insertar datos en la colección\n",
    "collection.insert_one(data)\n",
    "print(\"Datos insertados en MongoDB\")"
   ]
  },
  {
   "cell_type": "code",
   "execution_count": null,
   "id": "dd496f54-1a98-4eff-ba3c-f6be8caafa79",
   "metadata": {},
   "outputs": [],
   "source": []
  },
  {
   "cell_type": "code",
   "execution_count": null,
   "id": "761375ae-94a0-4079-a3e2-b7a3126c315a",
   "metadata": {},
   "outputs": [],
   "source": []
  }
 ],
 "metadata": {
  "kernelspec": {
   "display_name": "Python 3 (ipykernel)",
   "language": "python",
   "name": "python3"
  },
  "language_info": {
   "codemirror_mode": {
    "name": "ipython",
    "version": 3
   },
   "file_extension": ".py",
   "mimetype": "text/x-python",
   "name": "python",
   "nbconvert_exporter": "python",
   "pygments_lexer": "ipython3",
   "version": "3.11.9"
  }
 },
 "nbformat": 4,
 "nbformat_minor": 5
}
