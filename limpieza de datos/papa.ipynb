{
 "cells": [
  {
   "cell_type": "code",
   "execution_count": 1,
   "id": "967627eb-acf3-4506-9341-77ea3aff27df",
   "metadata": {},
   "outputs": [],
   "source": [
    "import pandas as pd\n",
    "import numpy as np\n",
    "import matplotlib.pyplot as plt\n",
    "import seaborn as sns\n",
    "import os\n",
    "from bs4 import BeautifulSoup as bs\n",
    "from pymongo import MongoClient\n"
   ]
  },
  {
   "cell_type": "code",
   "execution_count": 2,
   "id": "80f878c9-a7a8-4234-8d4d-ecb71ecb1ca2",
   "metadata": {},
   "outputs": [],
   "source": [
    "#CARGAR ARCHIVO DE LECTURAS DE ZANAHORIA "
   ]
  },
  {
   "cell_type": "code",
   "execution_count": 3,
   "id": "d0a8b5b0-bcf3-49e4-9dfb-04561bf1f455",
   "metadata": {},
   "outputs": [
    {
     "name": "stdout",
     "output_type": "stream",
     "text": [
      "fecha          datetime64[ns]\n",
      "humedad               float64\n",
      "temperatura           float64\n",
      "ph                    float64\n",
      "dtype: object\n"
     ]
    },
    {
     "data": {
      "text/html": [
       "<div>\n",
       "<style scoped>\n",
       "    .dataframe tbody tr th:only-of-type {\n",
       "        vertical-align: middle;\n",
       "    }\n",
       "\n",
       "    .dataframe tbody tr th {\n",
       "        vertical-align: top;\n",
       "    }\n",
       "\n",
       "    .dataframe thead th {\n",
       "        text-align: right;\n",
       "    }\n",
       "</style>\n",
       "<table border=\"1\" class=\"dataframe\">\n",
       "  <thead>\n",
       "    <tr style=\"text-align: right;\">\n",
       "      <th></th>\n",
       "      <th>fecha</th>\n",
       "      <th>humedad</th>\n",
       "      <th>temperatura</th>\n",
       "      <th>ph</th>\n",
       "    </tr>\n",
       "  </thead>\n",
       "  <tbody>\n",
       "    <tr>\n",
       "      <th>0</th>\n",
       "      <td>2024-04-18</td>\n",
       "      <td>87.0</td>\n",
       "      <td>7.0</td>\n",
       "      <td>6.1</td>\n",
       "    </tr>\n",
       "    <tr>\n",
       "      <th>1</th>\n",
       "      <td>2024-03-31</td>\n",
       "      <td>90.0</td>\n",
       "      <td>6.0</td>\n",
       "      <td>5.9</td>\n",
       "    </tr>\n",
       "    <tr>\n",
       "      <th>2</th>\n",
       "      <td>2024-03-10</td>\n",
       "      <td>88.0</td>\n",
       "      <td>8.0</td>\n",
       "      <td>6.3</td>\n",
       "    </tr>\n",
       "    <tr>\n",
       "      <th>3</th>\n",
       "      <td>2024-04-05</td>\n",
       "      <td>91.0</td>\n",
       "      <td>9.0</td>\n",
       "      <td>5.8</td>\n",
       "    </tr>\n",
       "    <tr>\n",
       "      <th>4</th>\n",
       "      <td>2024-04-26</td>\n",
       "      <td>85.0</td>\n",
       "      <td>5.0</td>\n",
       "      <td>6.2</td>\n",
       "    </tr>\n",
       "    <tr>\n",
       "      <th>...</th>\n",
       "      <td>...</td>\n",
       "      <td>...</td>\n",
       "      <td>...</td>\n",
       "      <td>...</td>\n",
       "    </tr>\n",
       "    <tr>\n",
       "      <th>2231</th>\n",
       "      <td>2024-03-26</td>\n",
       "      <td>78.0</td>\n",
       "      <td>110.0</td>\n",
       "      <td>3.3</td>\n",
       "    </tr>\n",
       "    <tr>\n",
       "      <th>2232</th>\n",
       "      <td>2024-03-06</td>\n",
       "      <td>82.0</td>\n",
       "      <td>115.0</td>\n",
       "      <td>4.0</td>\n",
       "    </tr>\n",
       "    <tr>\n",
       "      <th>2233</th>\n",
       "      <td>2024-03-19</td>\n",
       "      <td>76.0</td>\n",
       "      <td>120.0</td>\n",
       "      <td>3.1</td>\n",
       "    </tr>\n",
       "    <tr>\n",
       "      <th>2234</th>\n",
       "      <td>2024-04-24</td>\n",
       "      <td>80.0</td>\n",
       "      <td>125.0</td>\n",
       "      <td>3.8</td>\n",
       "    </tr>\n",
       "    <tr>\n",
       "      <th>2235</th>\n",
       "      <td>2024-04-11</td>\n",
       "      <td>74.0</td>\n",
       "      <td>130.0</td>\n",
       "      <td>3.0</td>\n",
       "    </tr>\n",
       "  </tbody>\n",
       "</table>\n",
       "<p>2236 rows × 4 columns</p>\n",
       "</div>"
      ],
      "text/plain": [
       "          fecha  humedad  temperatura   ph\n",
       "0    2024-04-18     87.0          7.0  6.1\n",
       "1    2024-03-31     90.0          6.0  5.9\n",
       "2    2024-03-10     88.0          8.0  6.3\n",
       "3    2024-04-05     91.0          9.0  5.8\n",
       "4    2024-04-26     85.0          5.0  6.2\n",
       "...         ...      ...          ...  ...\n",
       "2231 2024-03-26     78.0        110.0  3.3\n",
       "2232 2024-03-06     82.0        115.0  4.0\n",
       "2233 2024-03-19     76.0        120.0  3.1\n",
       "2234 2024-04-24     80.0        125.0  3.8\n",
       "2235 2024-04-11     74.0        130.0  3.0\n",
       "\n",
       "[2236 rows x 4 columns]"
      ]
     },
     "execution_count": 3,
     "metadata": {},
     "output_type": "execute_result"
    }
   ],
   "source": [
    "# Especifica la ruta del archivo CSV\n",
    "file_path = \"papaUltimo.csv\"\n",
    "\n",
    "\n",
    "# Lee el CSV especificando los tipos de datos\n",
    "df = pd.read_csv(file_path, dtype={'temperatura': float, 'humedad': float, 'ph': float})\n",
    "\n",
    "# Convierte la columna de fecha a tipo datetime\n",
    "df['fecha'] = pd.to_datetime(df['fecha'])\n",
    "\n",
    "# Verifica los tipos de datos\n",
    "print(df.dtypes)\n",
    "df"
   ]
  },
  {
   "cell_type": "code",
   "execution_count": 4,
   "id": "cd9cd9fa-b71d-412e-91a2-62ee66cc92e4",
   "metadata": {},
   "outputs": [],
   "source": [
    "#LIMPIEZA DE DATOS"
   ]
  },
  {
   "cell_type": "code",
   "execution_count": 5,
   "id": "d63455b5-0014-4e68-a2fc-8c1ae441ead4",
   "metadata": {},
   "outputs": [
    {
     "data": {
      "text/html": [
       "<div>\n",
       "<style scoped>\n",
       "    .dataframe tbody tr th:only-of-type {\n",
       "        vertical-align: middle;\n",
       "    }\n",
       "\n",
       "    .dataframe tbody tr th {\n",
       "        vertical-align: top;\n",
       "    }\n",
       "\n",
       "    .dataframe thead th {\n",
       "        text-align: right;\n",
       "    }\n",
       "</style>\n",
       "<table border=\"1\" class=\"dataframe\">\n",
       "  <thead>\n",
       "    <tr style=\"text-align: right;\">\n",
       "      <th></th>\n",
       "      <th>fecha</th>\n",
       "      <th>humedad</th>\n",
       "      <th>temperatura</th>\n",
       "      <th>ph</th>\n",
       "    </tr>\n",
       "  </thead>\n",
       "  <tbody>\n",
       "    <tr>\n",
       "      <th>0</th>\n",
       "      <td>2024-04-18</td>\n",
       "      <td>87.0</td>\n",
       "      <td>7.0</td>\n",
       "      <td>6.1</td>\n",
       "    </tr>\n",
       "    <tr>\n",
       "      <th>1</th>\n",
       "      <td>2024-03-31</td>\n",
       "      <td>90.0</td>\n",
       "      <td>6.0</td>\n",
       "      <td>5.9</td>\n",
       "    </tr>\n",
       "    <tr>\n",
       "      <th>2</th>\n",
       "      <td>2024-03-10</td>\n",
       "      <td>88.0</td>\n",
       "      <td>8.0</td>\n",
       "      <td>6.3</td>\n",
       "    </tr>\n",
       "    <tr>\n",
       "      <th>3</th>\n",
       "      <td>2024-04-05</td>\n",
       "      <td>91.0</td>\n",
       "      <td>9.0</td>\n",
       "      <td>5.8</td>\n",
       "    </tr>\n",
       "    <tr>\n",
       "      <th>4</th>\n",
       "      <td>2024-04-26</td>\n",
       "      <td>85.0</td>\n",
       "      <td>5.0</td>\n",
       "      <td>6.2</td>\n",
       "    </tr>\n",
       "    <tr>\n",
       "      <th>...</th>\n",
       "      <td>...</td>\n",
       "      <td>...</td>\n",
       "      <td>...</td>\n",
       "      <td>...</td>\n",
       "    </tr>\n",
       "    <tr>\n",
       "      <th>2231</th>\n",
       "      <td>2024-03-26</td>\n",
       "      <td>78.0</td>\n",
       "      <td>110.0</td>\n",
       "      <td>3.3</td>\n",
       "    </tr>\n",
       "    <tr>\n",
       "      <th>2232</th>\n",
       "      <td>2024-03-06</td>\n",
       "      <td>82.0</td>\n",
       "      <td>115.0</td>\n",
       "      <td>4.0</td>\n",
       "    </tr>\n",
       "    <tr>\n",
       "      <th>2233</th>\n",
       "      <td>2024-03-19</td>\n",
       "      <td>76.0</td>\n",
       "      <td>120.0</td>\n",
       "      <td>3.1</td>\n",
       "    </tr>\n",
       "    <tr>\n",
       "      <th>2234</th>\n",
       "      <td>2024-04-24</td>\n",
       "      <td>80.0</td>\n",
       "      <td>125.0</td>\n",
       "      <td>3.8</td>\n",
       "    </tr>\n",
       "    <tr>\n",
       "      <th>2235</th>\n",
       "      <td>2024-04-11</td>\n",
       "      <td>74.0</td>\n",
       "      <td>130.0</td>\n",
       "      <td>3.0</td>\n",
       "    </tr>\n",
       "  </tbody>\n",
       "</table>\n",
       "<p>2236 rows × 4 columns</p>\n",
       "</div>"
      ],
      "text/plain": [
       "          fecha  humedad  temperatura   ph\n",
       "0    2024-04-18     87.0          7.0  6.1\n",
       "1    2024-03-31     90.0          6.0  5.9\n",
       "2    2024-03-10     88.0          8.0  6.3\n",
       "3    2024-04-05     91.0          9.0  5.8\n",
       "4    2024-04-26     85.0          5.0  6.2\n",
       "...         ...      ...          ...  ...\n",
       "2231 2024-03-26     78.0        110.0  3.3\n",
       "2232 2024-03-06     82.0        115.0  4.0\n",
       "2233 2024-03-19     76.0        120.0  3.1\n",
       "2234 2024-04-24     80.0        125.0  3.8\n",
       "2235 2024-04-11     74.0        130.0  3.0\n",
       "\n",
       "[2236 rows x 4 columns]"
      ]
     },
     "execution_count": 5,
     "metadata": {},
     "output_type": "execute_result"
    }
   ],
   "source": [
    "# Rellena los valores nulos con 0\n",
    "df.fillna(0, inplace=True)\n",
    " #eliminar filas sin valores\n",
    "df = df[(df.iloc[:, 1:] != 0).any(axis=1)]\n",
    "df"
   ]
  },
  {
   "cell_type": "code",
   "execution_count": 6,
   "id": "0df71170-3b22-42d4-afd8-4634d5c9df11",
   "metadata": {},
   "outputs": [],
   "source": [
    "#VALORES ESTADISTICOS ANTES DE SACAR VALORES ATIPICOS "
   ]
  },
  {
   "cell_type": "code",
   "execution_count": 7,
   "id": "c9e77934-809d-43c0-a876-b961724623cb",
   "metadata": {},
   "outputs": [
    {
     "name": "stdout",
     "output_type": "stream",
     "text": [
      "Maximo de temperatura: 130.0\n",
      "Maximo de humedad: 105.0\n",
      "Maximo de pH: 17.5\n",
      "Promedio de temperatura: 9.213774597495528\n",
      "Promedio de humedad: 87.63595706618962\n",
      "Promedio de pH: 5.989892665474062\n",
      "Minimo de temperatura: -70.0\n",
      "Minimo de humedad: 0.0\n",
      "Minimo de pH: -6.5\n"
     ]
    }
   ],
   "source": [
    "# Calcular estadísticas\n",
    "max_temperatura = df['temperatura'].max()\n",
    "min_temperatura = df['temperatura'].min()\n",
    "mean_temperatura = df['temperatura'].mean()\n",
    "\n",
    "max_humedad = df['humedad'].max()\n",
    "min_humedad = df['humedad'].min()\n",
    "mean_humedad = df['humedad'].mean()\n",
    "\n",
    "max_ph = df['ph'].max()\n",
    "min_ph = df['ph'].min()\n",
    "mean_ph = df['ph'].mean()\n",
    "\n",
    "print(f'Maximo de temperatura: {max_temperatura}')\n",
    "print(f'Maximo de humedad: {max_humedad}')\n",
    "print(f'Maximo de pH: {max_ph}')\n",
    "print(f'Promedio de temperatura: {mean_temperatura}')\n",
    "print(f'Promedio de humedad: {mean_humedad}')\n",
    "print(f'Promedio de pH: {mean_ph}')\n",
    "print(f'Minimo de temperatura: {min_temperatura}')\n",
    "print(f'Minimo de humedad: {min_humedad}')\n",
    "print(f'Minimo de pH: {min_ph}')"
   ]
  },
  {
   "cell_type": "code",
   "execution_count": 8,
   "id": "cc8f0ce5-bd25-4b53-89e6-9faac1373bdd",
   "metadata": {},
   "outputs": [
    {
     "data": {
      "image/png": "[encoded data removed]",
      "text/plain": [
       "<Figure size 1000x600 with 1 Axes>"
      ]
     },
     "metadata": {},
     "output_type": "display_data"
    }
   ],
   "source": [
    "# Crear un DataFrame con las estadísticas\n",
    "estadisticas = pd.DataFrame({\n",
    "    'Variable': ['Temperatura', 'Humedad', 'pH'],\n",
    "    'Max': [max_temperatura, max_humedad, max_ph],\n",
    "    'Min': [min_temperatura, min_humedad, min_ph],\n",
    "    'Promedio': [mean_temperatura, mean_humedad, mean_ph]\n",
    "})\n",
    "\n",
    "# Configurar las dimensiones de la gráfica\n",
    "plt.figure(figsize=(10, 6))\n",
    "\n",
    "# Gráfica de barras para máximos, mínimos y promedios\n",
    "bar_width = 0.2\n",
    "index = range(len(estadisticas)) \n",
    "\n",
    "plt.bar(index, estadisticas['Max'], bar_width, label='Max')\n",
    "plt.bar([i + bar_width for i in index], estadisticas['Min'], bar_width, label='Min')\n",
    "plt.bar([i + 2 * bar_width for i in index], estadisticas['Promedio'], bar_width, label='Promedio')\n",
    "\n",
    "# Añadir etiquetas y título\n",
    "plt.xlabel('Variables')\n",
    "plt.ylabel('Valores')\n",
    "plt.title('Máximos, Mínimos y Promedios de Variables del jitomate con atipicos')\n",
    "plt.xticks([i + bar_width for i in index], estadisticas['Variable'])\n",
    "plt.legend()\n",
    "\n",
    "# Mostrar la gráfica\n",
    "plt.show()"
   ]
  },
  {
   "cell_type": "code",
   "execution_count": 9,
   "id": "957b598a-7a6f-44f1-9ea6-7b58da1beadf",
   "metadata": {},
   "outputs": [
    {
     "name": "stdout",
     "output_type": "stream",
     "text": [
      "                               fecha      humedad  temperatura           ph\n",
      "count                           2236  2236.000000  2236.000000  2236.000000\n",
      "mean   2024-03-30 16:57:31.878354176    87.635957     9.213775     5.989893\n",
      "min              2024-03-01 00:00:00     0.000000   -70.000000    -6.500000\n",
      "25%              2024-03-15 18:00:00    86.000000     6.000000     6.000000\n",
      "50%              2024-03-30 00:00:00    89.000000     7.000000     6.100000\n",
      "75%              2024-04-15 00:00:00    91.000000     8.000000     6.300000\n",
      "max              2024-04-30 00:00:00   105.000000   130.000000    17.500000\n",
      "std                              NaN     9.197550    16.344554     1.770809\n"
     ]
    }
   ],
   "source": [
    "# Obtener descripción estadística general\n",
    "descripcion_estadistica = df.describe()\n",
    "print(descripcion_estadistica)"
   ]
  },
  {
   "cell_type": "code",
   "execution_count": 10,
   "id": "5a1defe8-78fc-4b12-a815-a44c23901a4f",
   "metadata": {},
   "outputs": [],
   "source": [
    "#CHECAR VALORES ATIPICOS CON CONDICIONES OPTIMAS DEL JITOMATE"
   ]
  },
  {
   "cell_type": "code",
   "execution_count": 11,
   "id": "bd448a18-ec46-4277-b152-673613ff4bd6",
   "metadata": {},
   "outputs": [
    {
     "name": "stdout",
     "output_type": "stream",
     "text": [
      "       fecha  humedad  temperatura   ph\n",
      "0 2024-04-18     87.0          7.0  6.1\n",
      "1 2024-03-31     90.0          6.0  5.9\n",
      "2 2024-03-10     88.0          8.0  6.3\n",
      "3 2024-04-05     91.0          9.0  5.8\n",
      "4 2024-04-26     85.0          5.0  6.2\n",
      "Número de modificaciones de maximos: 100\n",
      "       fecha  humedad  temperatura   ph\n",
      "0 2024-04-18     87.0          7.0  6.1\n",
      "1 2024-03-31     90.0          6.0  5.9\n",
      "2 2024-03-10     88.0          8.0  6.3\n",
      "3 2024-04-05     91.0          9.0  5.8\n",
      "4 2024-04-26     85.0          5.0  6.2\n",
      "Número de modificaciones de minimos: 58\n"
     ]
    }
   ],
   "source": [
    "#TEMPERATURA MÁXIMA\n",
    "# Define el valor de umbral y el valor de reemplazo\n",
    "max = 27\n",
    "# Crear una máscara booleana para encontrar los valores que cumplen la condición\n",
    "mask = df['temperatura'] > max\n",
    "# Contar el número de modificaciones\n",
    "num_modificaciones = mask.sum()\n",
    "# Aplicar la condición y reemplazar los valores\n",
    "df.loc[mask, 'temperatura'] = max\n",
    "# Verificar los cambios y el número de modificaciones\n",
    "print(df.head())\n",
    "print(f'Número de modificaciones de maximos: {num_modificaciones}')\n",
    "\n",
    "#TEMPERATURA MINIMA\n",
    "# Define el valor de umbral y el valor de reemplazo\n",
    "min= 5\n",
    "# Crear una máscara booleana para encontrar los valores que cumplen la condición\n",
    "mask2 = df['temperatura'] < min\n",
    "# Contar el número de modificaciones\n",
    "num_modificaciones2 = mask2.sum()\n",
    "# Aplicar la condición y reemplazar los valores\n",
    "df.loc[mask2, 'temperatura'] = min\n",
    "# Verificar los cambios y el número de modificaciones\n",
    "print(df.head())\n",
    "print(f'Número de modificaciones de minimos: {num_modificaciones2}')"
   ]
  },
  {
   "cell_type": "code",
   "execution_count": 12,
   "id": "b85b6795-bcd4-4c5f-9297-097996b60291",
   "metadata": {},
   "outputs": [
    {
     "name": "stdout",
     "output_type": "stream",
     "text": [
      "       fecha  humedad  temperatura   ph\n",
      "0 2024-04-18     87.0          7.0  6.1\n",
      "1 2024-03-31     90.0          6.0  5.9\n",
      "2 2024-03-10     88.0          8.0  6.3\n",
      "3 2024-04-05     90.0          9.0  5.8\n",
      "4 2024-04-26     85.0          5.0  6.2\n",
      "Número de modificaciones de maximos: 706\n",
      "       fecha  humedad  temperatura   ph\n",
      "0 2024-04-18     87.0          7.0  6.1\n",
      "1 2024-03-31     90.0          6.0  5.9\n",
      "2 2024-03-10     88.0          8.0  6.3\n",
      "3 2024-04-05     90.0          9.0  5.8\n",
      "4 2024-04-26     85.0          5.0  6.2\n",
      "Número de modificaciones de minimos: 44\n"
     ]
    }
   ],
   "source": [
    "#HUMEDAD MÁXIMA\n",
    "# Define el valor de umbral y el valor de reemplazo\n",
    "max = 90\n",
    "# Crear una máscara booleana para encontrar los valores que cumplen la condición\n",
    "mask = df['humedad'] > max\n",
    "# Contar el número de modificaciones\n",
    "num_modificaciones = mask.sum()\n",
    "# Aplicar la condición y reemplazar los valores\n",
    "df.loc[mask, 'humedad'] = max\n",
    "# Verificar los cambios y el número de modificaciones\n",
    "print(df.head())\n",
    "print(f'Número de modificaciones de maximos: {num_modificaciones}')\n",
    "\n",
    "#HUMEDAD MINIMA\n",
    "# Define el valor de umbral y el valor de reemplazo\n",
    "min= 60\n",
    "# Crear una máscara booleana para encontrar los valores que cumplen la condición\n",
    "mask2 = df['humedad'] < min\n",
    "# Contar el número de modificaciones\n",
    "num_modificaciones2 = mask2.sum()\n",
    "# Aplicar la condición y reemplazar los valores\n",
    "df.loc[mask2, 'humedad'] = min\n",
    "# Verificar los cambios y el número de modificaciones\n",
    "print(df.head())\n",
    "print(f'Número de modificaciones de minimos: {num_modificaciones2}')"
   ]
  },
  {
   "cell_type": "code",
   "execution_count": 13,
   "id": "07f7f363-0033-4224-b392-4367407ce671",
   "metadata": {},
   "outputs": [
    {
     "name": "stdout",
     "output_type": "stream",
     "text": [
      "       fecha  humedad  temperatura   ph\n",
      "0 2024-04-18     87.0          7.0  6.1\n",
      "1 2024-03-31     90.0          6.0  5.9\n",
      "2 2024-03-10     88.0          8.0  6.3\n",
      "3 2024-04-05     90.0          9.0  5.8\n",
      "4 2024-04-26     85.0          5.0  6.2\n",
      "Número de modificaciones de maximos: 74\n",
      "       fecha  humedad  temperatura   ph\n",
      "0 2024-04-18     87.0          7.0  6.1\n",
      "1 2024-03-31     90.0          6.0  5.9\n",
      "2 2024-03-10     88.0          8.0  6.3\n",
      "3 2024-04-05     90.0          9.0  5.8\n",
      "4 2024-04-26     85.0          5.0  6.2\n",
      "Número de modificaciones de minimos: 118\n"
     ]
    }
   ],
   "source": [
    "#PH MÁXIMO\n",
    "# Define el valor de umbral y el valor de reemplazo\n",
    "max = 7.0\n",
    "# Crear una máscara booleana para encontrar los valores que cumplen la condición\n",
    "mask = df['ph'] > max\n",
    "# Contar el número de modificaciones\n",
    "num_modificaciones = mask.sum()\n",
    "# Aplicar la condición y reemplazar los valores\n",
    "df.loc[mask, 'ph'] = max\n",
    "# Verificar los cambios y el número de modificaciones\n",
    "print(df.head())\n",
    "print(f'Número de modificaciones de maximos: {num_modificaciones}')\n",
    "\n",
    "#PH MINIMO\n",
    "# Define el valor de umbral y el valor de reemplazo\n",
    "min= 5.0\n",
    "# Crear una máscara booleana para encontrar los valores que cumplen la condición\n",
    "mask2 = df['ph'] < min\n",
    "# Contar el número de modificaciones\n",
    "num_modificaciones2 = mask2.sum()\n",
    "# Aplicar la condición y reemplazar los valores\n",
    "df.loc[mask2, 'ph'] = min\n",
    "# Verificar los cambios y el número de modificaciones\n",
    "print(df.head())\n",
    "print(f'Número de modificaciones de minimos: {num_modificaciones2}')"
   ]
  },
  {
   "cell_type": "code",
   "execution_count": 14,
   "id": "a491bd5b-824c-4496-9abf-1a56eb2b041e",
   "metadata": {},
   "outputs": [],
   "source": [
    "#VALORES ESTADISTICOS CON DATOS LIMPIOS"
   ]
  },
  {
   "cell_type": "code",
   "execution_count": 15,
   "id": "33ed6044-9f22-499d-b52b-260937a44d0f",
   "metadata": {},
   "outputs": [
    {
     "name": "stdout",
     "output_type": "stream",
     "text": [
      "Maximo de temperatura: 27.0\n",
      "Maximo de humedad: 90.0\n",
      "Maximo de pH: 7.0\n",
      "Promedio de temperatura: 8.025939177101968\n",
      "Promedio de humedad: 87.52593917710196\n",
      "Promedio de pH: 6.092307692307692\n",
      "Minimo de temperatura: 5.0\n",
      "Minimo de humedad: 60.0\n",
      "Minimo de pH: 5.0\n"
     ]
    }
   ],
   "source": [
    "# Calcular estadísticas\n",
    "max_temperatura = df['temperatura'].max()\n",
    "min_temperatura = df['temperatura'].min()\n",
    "mean_temperatura = df['temperatura'].mean()\n",
    "\n",
    "max_humedad = df['humedad'].max()\n",
    "min_humedad = df['humedad'].min()\n",
    "mean_humedad = df['humedad'].mean()\n",
    "\n",
    "max_ph = df['ph'].max()\n",
    "min_ph = df['ph'].min()\n",
    "mean_ph = df['ph'].mean()\n",
    "\n",
    "print(f'Maximo de temperatura: {max_temperatura}')\n",
    "print(f'Maximo de humedad: {max_humedad}')\n",
    "print(f'Maximo de pH: {max_ph}')\n",
    "print(f'Promedio de temperatura: {mean_temperatura}')\n",
    "print(f'Promedio de humedad: {mean_humedad}')\n",
    "print(f'Promedio de pH: {mean_ph}')\n",
    "print(f'Minimo de temperatura: {min_temperatura}')\n",
    "print(f'Minimo de humedad: {min_humedad}')\n",
    "print(f'Minimo de pH: {min_ph}')"
   ]
  },
  {
   "cell_type": "code",
   "execution_count": 16,
   "id": "74c8948b-e6da-4a72-99eb-505f03bbb59c",
   "metadata": {},
   "outputs": [],
   "source": [
    "#GRAFICA DE VALORES ESTADISTICOS "
   ]
  },
  {
   "cell_type": "code",
   "execution_count": 17,
   "id": "be2fd6cb-8fa6-405b-9899-e8aecfd0a707",
   "metadata": {},
   "outputs": [
    {
     "data": {
      "image/png": "[encoded data removed]",
      "text/plain": [
       "<Figure size 1000x600 with 1 Axes>"
      ]
     },
     "metadata": {},
     "output_type": "display_data"
    }
   ],
   "source": [
    "# Crear un DataFrame con las estadísticas\n",
    "estadisticas = pd.DataFrame({\n",
    "    'Variable': ['Temperatura', 'Humedad', 'pH'],\n",
    "    'Max': [max_temperatura, max_humedad, max_ph],\n",
    "    'Min': [min_temperatura, min_humedad, min_ph],\n",
    "    'Promedio': [mean_temperatura, mean_humedad, mean_ph]\n",
    "})\n",
    "\n",
    "# Configurar las dimensiones de la gráfica\n",
    "plt.figure(figsize=(10, 6))\n",
    "\n",
    "# Gráfica de barras para máximos, mínimos y promedios\n",
    "bar_width = 0.2\n",
    "index = range(len(estadisticas))\n",
    "\n",
    "plt.bar(index, estadisticas['Max'], bar_width, label='Max')\n",
    "plt.bar([i + bar_width for i in index], estadisticas['Min'], bar_width, label='Min')\n",
    "plt.bar([i + 2 * bar_width for i in index], estadisticas['Promedio'], bar_width, label='Promedio')\n",
    "\n",
    "# Añadir etiquetas y título\n",
    "plt.xlabel('Variables')\n",
    "plt.ylabel('Valores')\n",
    "plt.title('Máximos, Mínimos y Promedios de Variables del jitomate con datos limpios')\n",
    "plt.xticks([i + bar_width for i in index], estadisticas['Variable'])\n",
    "plt.legend()\n",
    "\n",
    "# Mostrar la gráfica\n",
    "plt.show()"
   ]
  },
  {
   "cell_type": "code",
   "execution_count": 18,
   "id": "88352612-e025-4ea0-9181-162f3551d06b",
   "metadata": {},
   "outputs": [],
   "source": [
    "#INSERTAR DATOS ESTADISTICOS EN MONGODB"
   ]
  },
  {
   "cell_type": "code",
   "execution_count": 18,
   "id": "6207a8e9-5036-4598-8a4b-a6e5e9bda29e",
   "metadata": {},
   "outputs": [
    {
     "name": "stdout",
     "output_type": "stream",
     "text": [
      "Datos insertados en MongoDB\n"
     ]
    }
   ],
   "source": [
    "# Datos a insertar\n",
    "data = {\n",
    "    \"vegetal\": \"papa\",\n",
    "    \"estadisticas\": {\n",
    "        \"temperatura\": {\n",
    "            \"max\": max_temperatura,\n",
    "            \"min\": min_temperatura,\n",
    "            \"promedio\": mean_temperatura\n",
    "        },\n",
    "        \"humedad\": {\n",
    "            \"max\": max_humedad,\n",
    "            \"min\": min_humedad,\n",
    "            \"promedio\": mean_humedad\n",
    "        },\n",
    "        \"ph\": {\n",
    "            \"max\": max_ph,\n",
    "            \"min\": min_ph,\n",
    "            \"promedio\": mean_ph\n",
    "        }\n",
    "    }\n",
    "}\n",
    "\n",
    "# Conectar a MongoDB\n",
    "client = MongoClient('mongodb://localhost:27017/')  # Reemplaza con tu URI de MongoDB si es diferente\n",
    "\n",
    "# Crear base de datos y colección\n",
    "db = client['agricultura']\n",
    "collection = db['estadisticas_papa']\n",
    "\n",
    "# Insertar datos en la colección\n",
    "collection.insert_one(data)\n",
    "print(\"Datos insertados en MongoDB\")"
   ]
  },
  {
   "cell_type": "code",
   "execution_count": null,
   "id": "dd496f54-1a98-4eff-ba3c-f6be8caafa79",
   "metadata": {},
   "outputs": [],
   "source": []
  }
 ],
 "metadata": {
  "kernelspec": {
   "display_name": "Python 3 (ipykernel)",
   "language": "python",
   "name": "python3"
  },
  "language_info": {
   "codemirror_mode": {
    "name": "ipython",
    "version": 3
   },
   "file_extension": ".py",
   "mimetype": "text/x-python",
   "name": "python",
   "nbconvert_exporter": "python",
   "pygments_lexer": "ipython3",
   "version": "3.11.9"
  }
 },
 "nbformat": 4,
 "nbformat_minor": 5
}
